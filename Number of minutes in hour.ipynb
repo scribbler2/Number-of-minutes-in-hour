{
 "cells": [
  {
   "cell_type": "code",
   "execution_count": 8,
   "id": "32554e5b",
   "metadata": {},
   "outputs": [
    {
     "name": "stdout",
     "output_type": "stream",
     "text": [
      "Enter the number of hours: 3\n",
      "3 hour(s) is equal to 0 minute(s)\n"
     ]
    }
   ],
   "source": [
    "hours = int(input(\"Enter the number of hours: \"))\n",
    "\n",
    "minutes = hours % 1 * 60\n",
    "\n",
    "print(hours, \"hour(s) is equal to\", minutes, \"minute(s)\")"
   ]
  },
  {
   "cell_type": "code",
   "execution_count": null,
   "id": "6b751b96",
   "metadata": {},
   "outputs": [],
   "source": [
    "# When I enter float number, it shows an error!"
   ]
  }
 ],
 "metadata": {
  "kernelspec": {
   "display_name": "Python 3 (ipykernel)",
   "language": "python",
   "name": "python3"
  },
  "language_info": {
   "codemirror_mode": {
    "name": "ipython",
    "version": 3
   },
   "file_extension": ".py",
   "mimetype": "text/x-python",
   "name": "python",
   "nbconvert_exporter": "python",
   "pygments_lexer": "ipython3",
   "version": "3.9.13"
  }
 },
 "nbformat": 4,
 "nbformat_minor": 5
}
